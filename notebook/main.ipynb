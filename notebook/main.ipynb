{
 "cells": [
  {
   "cell_type": "code",
   "execution_count": 9,
   "metadata": {},
   "outputs": [],
   "source": [
    "import numpy as np\n",
    "import pandas as pd\n",
    "import os\n",
    "import joblib\n",
    "from elephant.gpfa import GPFA\n",
    "import quantities as pq\n",
    "import neo\n",
    "import matplotlib.pyplot as plt\n",
    "from sklearn.model_selection import cross_val_score\n",
    "from kneed import KneeLocator\n",
    "\n",
    "ks_dir = 'Z:/KH282_BL6/ephys/061921/2021-06-19_17-26-36/Record Node 101/experiment1/recording1/continuous/Neuropix-PXI-100.0/'\n",
    "    \n",
    "class load_kilsort:\n",
    "\n",
    "    def __init__(self, path):\n",
    "        self.path = path\n",
    "\n",
    "    def load_spike_times(self):\n",
    "        return np.load(str.join('', (self.path, '/spike_times.npy')))\n",
    "\n",
    "    def load_spike_clusters(self):\n",
    "        return np.load(str.join('', (self.path, '/spike_clusters.npy')))\n",
    "\n",
    "    def load_cluster_labels(self):\n",
    "        return pd.read_csv(str.join('', (self.path, '/cluster_group.tsv')), sep=\"\\t\")\n",
    "\n",
    "    def load_cluster_info(self):\n",
    "        return pd.read_csv(str.join('', (self.path, '/cluster_info.tsv')), sep=\"\\t\")\n",
    "\n",
    "    def load_channel_map(self):\n",
    "        return np.load(str.join('', (self.path, '/channel_map.npy')))\n",
    "\n",
    "    def load_templates(self):\n",
    "        return np.load(str.join('', (self.path, '/templates_ind.npy')))\n",
    "    \n",
    "    \n",
    "class kilosort2_spike_trains:\n",
    "\n",
    "    def __init__(self):\n",
    "        self.path = ks_dir\n",
    "        spike_loader = load_kilsort(self.path)\n",
    "        self.spike_times = spike_loader.load_spike_times()\n",
    "        self.clusters = spike_loader.load_spike_clusters()\n",
    "        self.cluster_labels = spike_loader.load_cluster_labels()\n",
    "        self.channel_map = spike_loader.load_channel_map()\n",
    "        self.cluster_info = spike_loader.load_cluster_info()\n",
    "        self.templates = spike_loader.load_templates()\n",
    "        self.good_clusters = []\n",
    "        try:\n",
    "            with open(os.path.join(self.path, '_removed_neuron.sav'), 'rb') as fr:\n",
    "                removed_neurons = joblib.load(fr)\n",
    "                self.removed_neurons = removed_neurons[0]\n",
    "        except FileNotFoundError:\n",
    "            self.removed_neurons = []\n",
    "\n",
    "    def find_neurons(self):\n",
    "        mua = 'No'\n",
    "        if mua == 'Yes':\n",
    "            for i, neuron in enumerate(np.unique(self.cluster_labels['cluster_id'])):\n",
    "                if self.cluster_labels['group'][i] == 'good' or self.cluster_labels['group'][i] == 'mua' \\\n",
    "                        and neuron not in self.removed_neurons:\n",
    "                    self.good_clusters.append(neuron)\n",
    "        elif mua == 'No':\n",
    "            for i, neuron in enumerate(np.unique(self.cluster_labels['cluster_id'])):\n",
    "                if self.cluster_labels['group'][i] == 'good':\n",
    "                    self.good_clusters.append(neuron)\n",
    "\n",
    "    def show_templates(self):\n",
    "        fig, axs = plt.subplots(len(self.good_clusters) // 5 + 1, 5, figsize=(10, 8))\n",
    "        axs = axs.ravel()\n",
    "        for i, neuron in enumerate(self.good_clusters):\n",
    "            axs[i].plot(self.templates[neuron][:, np.where(\n",
    "                self.channel_map[:][0] == self.cluster_info['ch'][np.where(self.cluster_info['id'] == neuron)[\n",
    "                                              0][0]])[0][0]], c='black', label=neuron)\n",
    "            axs[i].text(1, 0, '{}'.format(self.cluster_info['fr'][np.where(self.cluster_info['id'] == neuron)[\n",
    "                                              0][0]]), horizontalalignment='center',\n",
    "                        verticalalignment='center', transform=axs[i].transAxes)\n",
    "            axs[i].legend()\n",
    "        plt.show()\n",
    "\n",
    "    def main(self):\n",
    "        self.find_neurons()\n",
    "#         self.show_templates()\n",
    "        return self.spike_times, self.clusters, self.good_clusters\n",
    " \n",
    "    \n",
    "    \n",
    "\n"
   ]
  },
  {
   "cell_type": "code",
   "execution_count": 10,
   "metadata": {},
   "outputs": [],
   "source": [
    "spike_trains_loader = kilosort2_spike_trains()\n",
    "spike_times, clusters, good_clusters = spike_trains_loader.main()"
   ]
  },
  {
   "cell_type": "code",
   "execution_count": 15,
   "metadata": {},
   "outputs": [
    {
     "name": "stdout",
     "output_type": "stream",
     "text": [
      "      id  Amplitude  ContamPct KSLabel         amp   ch   depth        fr  \\\n",
      "0      0     1304.3      100.0     mua   28.357384    1    20.0  0.006937   \n",
      "1      1     1427.6      100.0     mua   46.117104    0    20.0  0.774558   \n",
      "2      2     1425.0      100.0     mua   43.346992    9   100.0  0.138180   \n",
      "3      3     1250.1      100.0     mua   40.695259    7    80.0  1.277241   \n",
      "4      4     1459.2      100.0     mua   43.949116    9   100.0  1.951540   \n",
      "..   ...        ...        ...     ...         ...  ...     ...       ...   \n",
      "398  452     2456.3      100.0    good  103.900543   29   300.0  0.023724   \n",
      "399  453     2900.8      100.0     mua  155.482651   93   940.0  1.272108   \n",
      "400  454     1082.9      100.0    good   54.037693  303  3060.0  3.816741   \n",
      "401  456     2233.6      100.0    good  100.561836  105  1060.0  0.047262   \n",
      "402  457     3210.7      100.0     mua  173.500870   81   820.0  0.529552   \n",
      "\n",
      "     group  n_spikes  sh  \n",
      "0      NaN       150   0  \n",
      "1    noise     16749   0  \n",
      "2      NaN      2988   0  \n",
      "3      NaN     27619   0  \n",
      "4      NaN     42200   0  \n",
      "..     ...       ...  ..  \n",
      "398  noise       513   0  \n",
      "399   good     27508   0  \n",
      "400   good     82533   0  \n",
      "401   good      1022   0  \n",
      "402   good     11451   0  \n",
      "\n",
      "[403 rows x 11 columns]\n"
     ]
    }
   ],
   "source": [
    "spike_loader = load_kilsort(ks_dir)\n",
    "cluster_info = spike_loader.load_cluster_info()\n",
    "print(cluster_info)"
   ]
  },
  {
   "cell_type": "code",
   "execution_count": 17,
   "metadata": {},
   "outputs": [
    {
     "name": "stdout",
     "output_type": "stream",
     "text": [
      "0 9\n",
      "1 43\n",
      "2 54\n",
      "3 131\n",
      "4 158\n",
      "5 159\n",
      "6 160\n",
      "7 178\n",
      "8 200\n",
      "9 203\n",
      "10 204\n",
      "11 205\n",
      "12 216\n",
      "13 241\n",
      "14 290\n",
      "15 294\n",
      "16 299\n",
      "17 308\n",
      "18 335\n",
      "19 351\n",
      "20 353\n",
      "21 369\n",
      "22 371\n",
      "23 373\n",
      "24 375\n",
      "25 381\n",
      "26 382\n",
      "27 383\n",
      "28 385\n",
      "29 386\n",
      "30 390\n",
      "31 393\n",
      "32 397\n",
      "33 398\n",
      "34 406\n",
      "35 408\n",
      "36 409\n",
      "37 416\n",
      "38 420\n",
      "39 421\n",
      "40 424\n",
      "41 428\n",
      "42 430\n",
      "43 433\n",
      "44 435\n",
      "45 453\n",
      "46 454\n",
      "47 456\n",
      "48 457\n"
     ]
    }
   ],
   "source": [
    "for i, neuron in enumerate(good_clusters):\n",
    "    print(i, neuron)"
   ]
  },
  {
   "cell_type": "code",
   "execution_count": 19,
   "metadata": {},
   "outputs": [
    {
     "data": {
      "text/plain": [
       "402"
      ]
     },
     "execution_count": 19,
     "metadata": {},
     "output_type": "execute_result"
    }
   ],
   "source": [
    "np.where(cluster_info['id'] == neuron)[0][0]"
   ]
  },
  {
   "cell_type": "code",
   "execution_count": 29,
   "metadata": {},
   "outputs": [
    {
     "data": {
      "text/plain": [
       "403"
      ]
     },
     "execution_count": 29,
     "metadata": {},
     "output_type": "execute_result"
    }
   ],
   "source": [
    "len(np.unique(cluster_info['id']))"
   ]
  },
  {
   "cell_type": "code",
   "execution_count": 27,
   "metadata": {},
   "outputs": [
    {
     "name": "stdout",
     "output_type": "stream",
     "text": [
      "(452, 82, 383)\n"
     ]
    }
   ],
   "source": [
    "templates = spike_loader.load_templates()\n",
    "print(templates.shape)"
   ]
  },
  {
   "cell_type": "code",
   "execution_count": 30,
   "metadata": {},
   "outputs": [],
   "source": [
    "channel_map = spike_loader.load_channel_map()"
   ]
  },
  {
   "cell_type": "code",
   "execution_count": 31,
   "metadata": {},
   "outputs": [
    {
     "name": "stdout",
     "output_type": "stream",
     "text": [
      "[[  0   1   2   3   4   5   6   7   8   9  10  11  12  13  14  15  16  17\n",
      "   18  19  20  21  22  23  24  25  26  27  28  29  30  31  32  33  34  35\n",
      "   36  37  38  39  40  41  42  43  44  45  46  47  48  49  50  51  52  53\n",
      "   54  55  56  57  58  59  60  61  62  63  64  65  66  67  68  69  70  71\n",
      "   72  73  74  75  76  77  78  79  80  81  82  83  84  85  86  87  88  89\n",
      "   90  91  92  93  94  95  96  97  98  99 100 101 102 103 104 105 106 107\n",
      "  108 109 110 111 112 113 114 115 116 117 118 119 120 121 122 123 124 125\n",
      "  126 127 128 129 130 131 132 133 134 135 136 137 138 139 140 141 142 143\n",
      "  144 145 146 147 148 149 150 151 152 153 154 155 156 157 158 159 160 161\n",
      "  162 163 164 165 166 167 168 169 170 171 172 173 174 175 176 177 178 179\n",
      "  180 181 182 183 184 185 186 187 188 189 190 191 192 193 194 195 196 197\n",
      "  198 199 200 201 202 203 204 205 206 207 208 209 210 211 212 213 214 215\n",
      "  216 217 218 219 220 221 222 223 224 225 226 227 228 229 230 231 232 233\n",
      "  234 235 236 237 238 239 240 241 242 243 244 245 246 247 248 249 250 251\n",
      "  252 253 254 255 256 257 258 259 260 261 262 263 264 265 266 267 268 269\n",
      "  270 271 272 273 274 275 276 277 278 279 280 281 282 283 284 285 286 287\n",
      "  288 289 290 291 292 293 294 295 296 297 298 299 300 301 302 303 304 305\n",
      "  306 307 308 309 310 311 312 313 314 315 316 317 318 319 320 321 322 323\n",
      "  324 325 326 327 328 329 330 331 332 333 334 335 336 337 338 339 340 341\n",
      "  342 343 344 345 346 347 348 349 350 351 352 353 354 355 356 357 358 359\n",
      "  360 361 362 363 364 365 366 367 368 369 370 371 372 373 374 375 376 377\n",
      "  378 379 380 381 382]]\n"
     ]
    }
   ],
   "source": [
    "print(channel_map)"
   ]
  },
  {
   "cell_type": "code",
   "execution_count": null,
   "metadata": {},
   "outputs": [],
   "source": []
  }
 ],
 "metadata": {
  "kernelspec": {
   "display_name": "Python 3 (ipykernel)",
   "language": "python",
   "name": "python3"
  },
  "language_info": {
   "codemirror_mode": {
    "name": "ipython",
    "version": 3
   },
   "file_extension": ".py",
   "mimetype": "text/x-python",
   "name": "python",
   "nbconvert_exporter": "python",
   "pygments_lexer": "ipython3",
   "version": "3.7.10"
  }
 },
 "nbformat": 4,
 "nbformat_minor": 4
}